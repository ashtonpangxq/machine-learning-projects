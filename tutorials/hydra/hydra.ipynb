{
 "cells": [
  {
   "cell_type": "markdown",
   "metadata": {},
   "source": [
    "#### <b>Tutorial 1"
   ]
  },
  {
   "cell_type": "markdown",
   "metadata": {},
   "source": [
    "Review of the Script:\n",
    "\n",
    "- omegaconf is installed by default with hydra. It is only used to provide the type annotation for cfg argument in func.\n",
    "- @hydra.main(config_path=\"config\", config_name=\"config\") This is the main decorator function that is used when any function requires contents from a configuration file.\n",
    "- Current working directory is changed. main.py exists in src/main.py but the output shows the current working directory is src/outputs/2021-03-13/16-22-21. This is the most important point when using Hydra. An explanation follows below."
   ]
  },
  {
   "cell_type": "markdown",
   "metadata": {},
   "source": [
    "#### How Hydra handles different runs"
   ]
  },
  {
   "cell_type": "markdown",
   "metadata": {},
   "source": [
    "Whenever a program is executed using python main.py, Hydra will create a new folder in outputs directory with the following naming scheme outputs/YYYY-mm-dd/HH-MM-SS i.e. the date and time at which the file was executed. Think about this for a second. Hydra provides you a way to maintain a log of every run without you having to worry about it."
   ]
  },
  {
   "cell_type": "markdown",
   "metadata": {},
   "source": [
    "```\n",
    "src\n",
    "├── config\n",
    "│   └── config.yaml\n",
    "├── main.py\n",
    "├── outputs\n",
    "│   └── 2021-03-13\n",
    "│       └── 17-14-24\n",
    "│           ├── .hydra\n",
    "│           │   ├── config.yaml\n",
    "│           │   ├── hydra.yaml\n",
    "│           │   └── overrides.yaml\n",
    "│           ├── main.log\n",
    "```"
   ]
  },
  {
   "cell_type": "markdown",
   "metadata": {},
   "source": [
    "What happens actually? When you run src/main.py, hydra moves this file to src/outputs/2021-03-13/16-22-21/main.py and then runs it. \n",
    "\n",
    "- You can verify this by checking the output of os.getcwd() as shown in the above example. \n",
    "- This means if your main.py relied on some external file, say test.txt, then you would have to use ../../../test.txt instead, as you are no longer running the program in src directory. \n",
    "- This also means that everything you save to disk would be saved relative to src/outputs/2021-03-13/16-22-21/."
   ]
  },
  {
   "cell_type": "markdown",
   "metadata": {},
   "source": [
    "Hydra provides two utility functions to handle this situation\n",
    "\n",
    "- <b>hydra.utils.get_original_cwd()</b>: Get the original current working directory i.e. `src`."
   ]
  },
  {
   "cell_type": "markdown",
   "metadata": {},
   "source": [
    "```\n",
    "orig_cwd = hydra.utils.get_original_cwd()\n",
    "path = f\"{orig_cwd}/test.txt\"\n",
    "# path = src/test.txt\n",
    "```"
   ]
  },
  {
   "cell_type": "markdown",
   "metadata": {},
   "source": [
    "- <b>hydra.utils.to_absolute_path(file_name):</b>"
   ]
  },
  {
   "cell_type": "markdown",
   "metadata": {},
   "source": [
    "```\n",
    "path = hydra.utils.to_absolute_path('test.txt')\n",
    "\n",
    "# path = src/test.txt\n",
    "```"
   ]
  },
  {
   "cell_type": "markdown",
   "metadata": {},
   "source": [
    "Suppose we want to read src/test.txt and write the output to output.txt. The corresponding function to do this would be as shown below:"
   ]
  },
  {
   "cell_type": "markdown",
   "metadata": {},
   "source": [
    "```\n",
    "@hydra.main(config_path=\"config\", config_name=\"config\")\n",
    "def func(cfg: DictConfig):\n",
    "    orig_cwd = hydra.utils.get_original_cwd()\n",
    "\n",
    "    # Read file\n",
    "    path = f\"{orig_cwd}/test.txt\"\n",
    "    with open(path, \"r\") as f:\n",
    "        print(f.read())\n",
    "\n",
    "    # Write file\n",
    "    path = f\"output.txt\"\n",
    "    with open(path, \"w\") as f:\n",
    "        f.write(\"This is a dog\")\n",
    "```"
   ]
  },
  {
   "cell_type": "markdown",
   "metadata": {},
   "source": [
    "After running the above code, we check the directory structure again:"
   ]
  },
  {
   "cell_type": "markdown",
   "metadata": {},
   "source": [
    "```\n",
    "src\n",
    "├── config\n",
    "│   └── config.yaml\n",
    "├── main.py\n",
    "├── outputs\n",
    "│   └── 2021-03-13\n",
    "│       └── 17-14-24\n",
    "│           ├── .hydra\n",
    "│           │   ├── config.yaml\n",
    "│           │   ├── hydra.yaml\n",
    "│           │   └── overrides.yaml\n",
    "│           ├── main.log\n",
    "│           └── output.txt\n",
    "└── test.txt\n",
    "```"
   ]
  },
  {
   "cell_type": "markdown",
   "metadata": {},
   "source": [
    "The file was written to the folder created by hydra. \n",
    "\n",
    "- This is a good way to save intermediate results when you are developing something. \n",
    "- You can use this feature to save the accuracy results of your model with different hyperparameters. \n",
    "- Now you do not have to spend time on manually saving the configuration file or the command line arguments you used to run the script and creating a new folder for each run to store the outputs."
   ]
  },
  {
   "cell_type": "markdown",
   "metadata": {},
   "source": [
    "#### Contents of Subfolder in Outputs Folder (Hydra)"
   ]
  },
  {
   "cell_type": "markdown",
   "metadata": {},
   "source": [
    "Each subfolder have the following substructure:\n",
    "\n",
    "```\n",
    "src/outputs/2021-03-13/17-14-24/\n",
    "├── .hydra\n",
    "│   ├── config.yaml\n",
    "│   ├── hydra.yaml\n",
    "│   └── overrides.yaml\n",
    "└── main.log\n",
    "```"
   ]
  },
  {
   "cell_type": "markdown",
   "metadata": {},
   "source": [
    "- `config.yaml` - Copy of the config file passed to the function (It doesn't matter if you pass foo.yaml, this file would still be named config.yaml)\n",
    "- `hydra.yaml` - Copy of the hydra config file. We will later see how to change some of the defaults used by hydra. (You can specify the message of python main.py --help here)\n",
    "- `overrides.yaml` - Copy of any argument that you provide through the command line and which changes one of the default value would be stored here\n",
    "- `main.log` - Output of the logger would be stored here. (For foo.py this file would be named foo.log)"
   ]
  },
  {
   "cell_type": "markdown",
   "metadata": {},
   "source": [
    "#### How to use Logging"
   ]
  },
  {
   "cell_type": "markdown",
   "metadata": {},
   "source": [
    "With Hydra, you can easily use the logging package provided by Python in your code without any setup. The output of the log is stored in main.log. A usage example is shown below:"
   ]
  },
  {
   "cell_type": "markdown",
   "metadata": {},
   "source": [
    "```\n",
    "import logging\n",
    "\n",
    "log = logging.getLogger(__name__)\n",
    "\n",
    "@hydra.main(config_path=\"config\", config_name=\"config\")\n",
    "def main_func(cfg: DictConfig):\n",
    "    log.debug(\"Debug level message\")\n",
    "    log.info(\"Info level message\")\n",
    "    log.warning(\"Warning level message\")\n",
    "```"
   ]
  },
  {
   "cell_type": "markdown",
   "metadata": {},
   "source": [
    "The log of `python main.py` in this case would be (in `main.log`)"
   ]
  },
  {
   "cell_type": "markdown",
   "metadata": {},
   "source": [
    "```\n",
    "[2021-03-13 17:36:06,493][__main__][INFO] - Info level message\n",
    "[2021-03-13 17:36:06,493][__main__][WARNING] - Warning level message\n",
    "```"
   ]
  },
  {
   "cell_type": "markdown",
   "metadata": {},
   "source": [
    "If you want to include `DEBUG` also, then override `hydra.verbose=true` or `hydra.verbose=__main__` (i.e. `python main.py hydra.verbose=true`). The output in `main.log` in this case would be:"
   ]
  },
  {
   "cell_type": "markdown",
   "metadata": {},
   "source": [
    "```\n",
    "[2021-03-13 17:36:38,425][__main__][DEBUG] - Debug level message\n",
    "[2021-03-13 17:36:38,425][__main__][INFO] - Info level message\n",
    "[2021-03-13 17:36:38,425][__main__][WARNING] - Warning level message\n",
    "```"
   ]
  },
  {
   "cell_type": "markdown",
   "metadata": {},
   "source": []
  }
 ],
 "metadata": {
  "kernelspec": {
   "display_name": "Python 3.8.13 ('ml-env')",
   "language": "python",
   "name": "python3"
  },
  "language_info": {
   "name": "python",
   "version": "3.8.13"
  },
  "orig_nbformat": 4,
  "vscode": {
   "interpreter": {
    "hash": "d11cf63e32315551b13583ddc00f3df54160744934301eae2b9a1ffa25a15800"
   }
  }
 },
 "nbformat": 4,
 "nbformat_minor": 2
}
