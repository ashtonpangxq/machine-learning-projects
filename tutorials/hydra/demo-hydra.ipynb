{
 "cells": [
  {
   "cell_type": "markdown",
   "metadata": {},
   "source": [
    "#### Manipulating YAML files with OmegaConf\n",
    "\n",
    "See the full documentation here: [https://omegaconf.readthedocs.io/en/latest/usage.html#access-and-manipulation](https://omegaconf.readthedocs.io/en/latest/usage.html#access-and-manipulation)"
   ]
  },
  {
   "cell_type": "code",
   "execution_count": 1,
   "metadata": {},
   "outputs": [],
   "source": [
    "from omegaconf import OmegaConf"
   ]
  },
  {
   "cell_type": "code",
   "execution_count": 3,
   "metadata": {},
   "outputs": [],
   "source": [
    "conf = OmegaConf.load('conf/config.yaml')"
   ]
  },
  {
   "cell_type": "code",
   "execution_count": 4,
   "metadata": {},
   "outputs": [
    {
     "name": "stdout",
     "output_type": "stream",
     "text": [
      "<class 'omegaconf.dictconfig.DictConfig'>\n"
     ]
    }
   ],
   "source": [
    "print(type(conf))"
   ]
  },
  {
   "cell_type": "code",
   "execution_count": 5,
   "metadata": {},
   "outputs": [
    {
     "name": "stdout",
     "output_type": "stream",
     "text": [
      "3\n",
      "10\n"
     ]
    }
   ],
   "source": [
    "# Accessing values\n",
    "print(conf.dataset.image.channels)\n",
    "print(conf['dataset']['classes'])"
   ]
  },
  {
   "cell_type": "code",
   "execution_count": 6,
   "metadata": {},
   "outputs": [],
   "source": [
    "# Modifying a value\n",
    "conf.dataset.classes = 15"
   ]
  },
  {
   "cell_type": "markdown",
   "metadata": {},
   "source": [
    "## Part 2: Using Hydra"
   ]
  },
  {
   "cell_type": "code",
   "execution_count": 6,
   "metadata": {},
   "outputs": [
    {
     "name": "stdout",
     "output_type": "stream",
     "text": [
      "dataset:\n",
      "  image:\n",
      "    size: 124\n",
      "    channels: 3\n",
      "  classes: 10\n",
      "feature_extractor:\n",
      "  _target_: torchvision.models.alexnet\n",
      "  pretrained: true\n",
      "classifier:\n",
      "  dense1:\n",
      "    _target_: torch.nn.Linear\n",
      "    in_features: 9216\n",
      "    out_features: 100\n",
      "  dense2:\n",
      "    _target_: torch.nn.Linear\n",
      "    in_features: 100\n",
      "    out_features: 10\n",
      "\n",
      "[2021-05-24 09:33:30,309][__main__][INFO] - Working dir: d:\\Codice\\git-repositories\\hydra-tutorial\\outputs\\2021-05-24\\09-33-30\n"
     ]
    }
   ],
   "source": [
    "%run -i main.py"
   ]
  },
  {
   "cell_type": "code",
   "execution_count": 7,
   "metadata": {},
   "outputs": [
    {
     "name": "stdout",
     "output_type": "stream",
     "text": [
      "dataset:\n",
      "  image:\n",
      "    size: 124\n",
      "    channels: 3\n",
      "  classes: 15\n",
      "feature_extractor:\n",
      "  _target_: torchvision.models.alexnet\n",
      "  pretrained: true\n",
      "classifier:\n",
      "  dense1:\n",
      "    _target_: torch.nn.Linear\n",
      "    in_features: 9216\n",
      "    out_features: 100\n",
      "  dense2:\n",
      "    _target_: torch.nn.Linear\n",
      "    in_features: 100\n",
      "    out_features: 15\n",
      "\n",
      "[2021-05-24 09:33:32,405][__main__][INFO] - Working dir: d:\\Codice\\git-repositories\\hydra-tutorial\\outputs\\2021-05-24\\09-33-32\n"
     ]
    }
   ],
   "source": [
    "# Modify a flag\n",
    "%run -i main.py dataset.classes=15"
   ]
  },
  {
   "cell_type": "code",
   "execution_count": 8,
   "metadata": {},
   "outputs": [
    {
     "name": "stdout",
     "output_type": "stream",
     "text": [
      "dataset:\n",
      "  image:\n",
      "    size: 124\n",
      "    channels: 3\n",
      "  classes: 10\n",
      "feature_extractor:\n",
      "  _target_: torchvision.models.alexnet\n",
      "  pretrained: true\n",
      "classifier:\n",
      "  dense1:\n",
      "    _target_: torch.nn.Linear\n",
      "    in_features: 9216\n",
      "    out_features: 100\n",
      "  dense2:\n",
      "    _target_: torch.nn.Linear\n",
      "    in_features: 100\n",
      "    out_features: 10\n",
      "custom_param: true\n",
      "\n",
      "[2021-05-24 09:33:32,702][__main__][INFO] - Working dir: d:\\Codice\\git-repositories\\hydra-tutorial\\outputs\\2021-05-24\\09-33-32\n"
     ]
    }
   ],
   "source": [
    "# Add a flag\n",
    "%run -i main.py +custom_param=True"
   ]
  },
  {
   "cell_type": "code",
   "execution_count": 9,
   "metadata": {},
   "outputs": [
    {
     "name": "stdout",
     "output_type": "stream",
     "text": [
      "dataset:\n",
      "  image:\n",
      "    size: 124\n",
      "    channels: 3\n",
      "  classes: 10\n",
      "feature_extractor:\n",
      "  _target_: torchvision.models.alexnet\n",
      "  pretrained: true\n",
      "classifier:\n",
      "  dense1:\n",
      "    _target_: torch.nn.Linear\n",
      "    in_features: 9216\n",
      "    out_features: 100\n",
      "  dense2:\n",
      "    _target_: torch.nn.Linear\n",
      "    in_features: 100\n",
      "    out_features: 10\n",
      "\n",
      "[2021-05-24 09:33:34,063][__main__][INFO] - Working dir: d:\\Codice\\git-repositories\\hydra-tutorial\\outputs\\custom_folder\n"
     ]
    }
   ],
   "source": [
    "# Change the working directory\n",
    "%run -i main.py hydra.run.dir='outputs/custom_folder'"
   ]
  },
  {
   "cell_type": "markdown",
   "metadata": {},
   "source": [
    "## Part 3: Instantiating a configuration file manually"
   ]
  },
  {
   "cell_type": "code",
   "execution_count": 10,
   "metadata": {},
   "outputs": [],
   "source": [
    "from hydra import initialize, compose"
   ]
  },
  {
   "cell_type": "code",
   "execution_count": 11,
   "metadata": {},
   "outputs": [
    {
     "data": {
      "text/plain": [
       "hydra.initialize()"
      ]
     },
     "execution_count": 11,
     "metadata": {},
     "output_type": "execute_result"
    }
   ],
   "source": [
    "# Initialize Hydra\n",
    "initialize('configs')"
   ]
  },
  {
   "cell_type": "code",
   "execution_count": 12,
   "metadata": {},
   "outputs": [],
   "source": [
    "cfg = compose(config_name='config')"
   ]
  },
  {
   "cell_type": "markdown",
   "metadata": {},
   "source": [
    "## Part 4: Instantiating an object"
   ]
  },
  {
   "cell_type": "code",
   "execution_count": 13,
   "metadata": {},
   "outputs": [],
   "source": [
    "import torch\n",
    "from collections import OrderedDict\n",
    "from hydra.utils import instantiate"
   ]
  },
  {
   "cell_type": "code",
   "execution_count": 14,
   "metadata": {},
   "outputs": [],
   "source": [
    "net = instantiate(cfg.feature_extractor)"
   ]
  },
  {
   "cell_type": "code",
   "execution_count": 15,
   "metadata": {},
   "outputs": [
    {
     "name": "stdout",
     "output_type": "stream",
     "text": [
      "{'dense1': Linear(in_features=9216, out_features=100, bias=True), 'dense2': Linear(in_features=100, out_features=10, bias=True)}\n"
     ]
    }
   ],
   "source": [
    "print(instantiate(cfg.classifier))"
   ]
  },
  {
   "cell_type": "code",
   "execution_count": 16,
   "metadata": {},
   "outputs": [
    {
     "name": "stdout",
     "output_type": "stream",
     "text": [
      "dense1:\n",
      "  _target_: torch.nn.Linear\n",
      "  in_features: 9216\n",
      "  out_features: 100\n",
      "dense2:\n",
      "  _target_: torch.nn.Linear\n",
      "  in_features: 100\n",
      "  out_features: 10\n",
      "\n"
     ]
    }
   ],
   "source": [
    "# Printing the configuration with resolution\n",
    "print(OmegaConf.to_yaml(cfg.classifier, resolve=True))"
   ]
  },
  {
   "cell_type": "code",
   "execution_count": null,
   "metadata": {},
   "outputs": [],
   "source": [
    "classifier = torch.nn.Sequential(\n",
    "    OrderedDict(instantiate(cfg.classifier)\n",
    ")"
   ]
  },
  {
   "cell_type": "code",
   "execution_count": null,
   "metadata": {},
   "outputs": [],
   "source": [
    "net.classifier = classifier"
   ]
  },
  {
   "cell_type": "code",
   "execution_count": null,
   "metadata": {},
   "outputs": [],
   "source": [
    "# Test it works\n",
    "xb = torch.randn((8, cfg.dataset.image.channels, cfg.dataset.image.size, cfg.dataset.image.size))\n",
    "print(net(xb).shape)"
   ]
  },
  {
   "cell_type": "code",
   "execution_count": null,
   "metadata": {},
   "outputs": [],
   "source": [
    "# Instantiate the large model\n",
    "cfg = compose(config_name='config', overrides=['classifier=large'])"
   ]
  },
  {
   "cell_type": "markdown",
   "metadata": {},
   "source": [
    "## Part 5: An example of multiple run"
   ]
  },
  {
   "cell_type": "code",
   "execution_count": null,
   "metadata": {},
   "outputs": [],
   "source": [
    "# We need to reset HydraGlobal because we called initialize before\n",
    "hydra.core.global_hydra.GlobalHydra.instance().clear()"
   ]
  },
  {
   "cell_type": "code",
   "execution_count": null,
   "metadata": {},
   "outputs": [],
   "source": [
    "%run -i main.py -m classifier=small,large"
   ]
  },
  {
   "cell_type": "markdown",
   "metadata": {},
   "source": [
    "## Part 6: Validating the configuration"
   ]
  },
  {
   "cell_type": "code",
   "execution_count": null,
   "metadata": {},
   "outputs": [],
   "source": [
    "# Try overriding a parameter with an invalid type\n",
    "%run -i main.py dataset.classes=0.5"
   ]
  }
 ],
 "metadata": {
  "kernelspec": {
   "display_name": "Python 3.8.13 ('ml-env')",
   "language": "python",
   "name": "python3"
  },
  "language_info": {
   "codemirror_mode": {
    "name": "ipython",
    "version": 3
   },
   "file_extension": ".py",
   "mimetype": "text/x-python",
   "name": "python",
   "nbconvert_exporter": "python",
   "pygments_lexer": "ipython3",
   "version": "3.8.13"
  },
  "orig_nbformat": 2,
  "vscode": {
   "interpreter": {
    "hash": "d11cf63e32315551b13583ddc00f3df54160744934301eae2b9a1ffa25a15800"
   }
  }
 },
 "nbformat": 4,
 "nbformat_minor": 2
}
