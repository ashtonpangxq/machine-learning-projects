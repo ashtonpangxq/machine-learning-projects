{
 "cells": [
  {
   "cell_type": "markdown",
   "metadata": {},
   "source": [
    "#### Config Groups"
   ]
  },
  {
   "cell_type": "markdown",
   "metadata": {},
   "source": [
    "A `Config Group` is a named group with a set of valid options. Selecting a non-existent config option generates an error message with the valid options."
   ]
  },
  {
   "cell_type": "markdown",
   "metadata": {},
   "source": [
    "Since we moved all the configs into the `conf` directory, we need to tell Hydra where to find them using the config_path parameter. `config_path` <b>is a directory relative to</b> `my_app.py.`"
   ]
  },
  {
   "cell_type": "markdown",
   "metadata": {},
   "source": [
    "```\n",
    "from omegaconf import DictConfig, OmegaConf\n",
    "import hydra\n",
    "\n",
    "@hydra.main(version_base=None, config_path=\"conf\")\n",
    "def my_app(cfg: DictConfig) -> None:\n",
    "    print(OmegaConf.to_yaml(cfg))\n",
    "\n",
    "if __name__ == \"__main__\":\n",
    "    my_app()\n",
    "```"
   ]
  },
  {
   "cell_type": "markdown",
   "metadata": {},
   "source": [
    "Running `my_app.py` without requesting a configuration will print an empty config.\n",
    "\n",
    "```\n",
    "$ python my_app.py\n",
    "{}\n",
    "```"
   ]
  },
  {
   "cell_type": "markdown",
   "metadata": {},
   "source": [
    "Select an item from a config group with `+GROUP=OPTION`, e.g:\n",
    "\n",
    "```\n",
    "$ python my_app.py +db=postgresql\n",
    "db:\n",
    "  driver: postgresql\n",
    "  pass: drowssap\n",
    "  timeout: 10\n",
    "  user: postgres_user\n",
    "```"
   ]
  },
  {
   "cell_type": "markdown",
   "metadata": {},
   "source": [
    "By default, the config group determines where the config content is placed inside the final config object. In Hydra, the path to the config content is referred to as the config `package`. The package of `db/postgresql.yaml` is `db`:\n",
    "\n",
    "Like before, you can still override individual values in the resulting config:\n",
    "\n",
    "```\n",
    "$ python my_app.py +db=postgresql db.timeout=20\n",
    "db:\n",
    "  driver: postgresql\n",
    "  pass: drowssap\n",
    "  timeout: 20\n",
    "  user: postgres_user\n",
    "```"
   ]
  },
  {
   "cell_type": "markdown",
   "metadata": {},
   "source": [
    "#### Selecting Default Configs"
   ]
  },
  {
   "cell_type": "markdown",
   "metadata": {},
   "source": [
    "You can have multiple items in the defaults list, e.g: \n",
    "\n",
    "```\n",
    "defaults:\n",
    " - db: mysql\n",
    " - db/mysql/engine: innodb\n",
    "```"
   ]
  },
  {
   "cell_type": "markdown",
   "metadata": {},
   "source": [
    "The defaults are ordered:\n",
    "\n",
    "- If multiple configs define the same value, the last one wins.\n",
    "- If multiple configs contribute to the same dictionary, the result is the combined dictionary."
   ]
  },
  {
   "cell_type": "markdown",
   "metadata": {},
   "source": [
    "<b>Overriding a config group default</b>\n",
    "\n",
    "_You can still load PostgreSQL, and override individual values._\n",
    "\n",
    "```\n",
    "$ python my_app.py db=postgresql db.timeout=20\n",
    "db:\n",
    "  driver: postgresql\n",
    "  pass: drowssap\n",
    "  timeout: 20\n",
    "  user: postgres_user\n",
    "```"
   ]
  },
  {
   "cell_type": "markdown",
   "metadata": {},
   "source": [
    "_You can remove a default entry from the defaults list by prefixing it with ~:_\n",
    "\n",
    "```\n",
    "$ python my_app.py ~db\n",
    "{}\n",
    "```"
   ]
  },
  {
   "cell_type": "markdown",
   "metadata": {},
   "source": [
    "<b>Composition Order of Primary Config</b>\n",
    "\n",
    "Your primary config can contain both config values and a Defaults List. In such cases, you should add the `_self_` keyword to your defaults list to specify the composition order of the config file relative to the items in the defaults list.\n",
    "\n",
    "- If you want your primary config to override the values of configs from the Defaults List, append `_self_` to the end of the Defaults List.\n",
    "- If you want the configs from the Defaults List to override the values in your primary config, insert `_self_` as the first item in your Defaults List."
   ]
  },
  {
   "cell_type": "markdown",
   "metadata": {},
   "source": [
    "_config.yaml_\n",
    "\n",
    "```\n",
    "defaults:\n",
    "  - db: mysql\n",
    "  - _self_\n",
    "\n",
    "db:\n",
    "  user: root\n",
    "```"
   ]
  },
  {
   "cell_type": "markdown",
   "metadata": {},
   "source": [
    "_Result config:db.user from config.yaml_\n",
    "\n",
    "```\n",
    "db:\n",
    "  driver: mysql  # db/mysql.yaml\n",
    "  pass: secret   # db/mysql.yaml \n",
    "  user: root     # config.yaml\n",
    "```"
   ]
  },
  {
   "cell_type": "markdown",
   "metadata": {},
   "source": [
    "_config.yaml_\n",
    "\n",
    "\n",
    "\n",
    "```\n",
    "defaults:\n",
    "  - _self_\n",
    "  - db: mysql\n",
    "\n",
    "db:\n",
    "  user: root\n",
    "```"
   ]
  },
  {
   "cell_type": "markdown",
   "metadata": {},
   "source": [
    "_Result config: All values from db/mysql_\n",
    "\n",
    "```\n",
    "db:\n",
    "  driver: mysql # db/mysql.yaml\n",
    "  pass: secret  # db/mysql.yaml\n",
    "  user: omry    # db/mysql.yaml\n",
    "```"
   ]
  },
  {
   "cell_type": "markdown",
   "metadata": {},
   "source": []
  }
 ],
 "metadata": {
  "kernelspec": {
   "display_name": "Python 3.8.13 ('ml-env')",
   "language": "python",
   "name": "python3"
  },
  "language_info": {
   "name": "python",
   "version": "3.8.13"
  },
  "orig_nbformat": 4,
  "vscode": {
   "interpreter": {
    "hash": "d11cf63e32315551b13583ddc00f3df54160744934301eae2b9a1ffa25a15800"
   }
  }
 },
 "nbformat": 4,
 "nbformat_minor": 2
}
